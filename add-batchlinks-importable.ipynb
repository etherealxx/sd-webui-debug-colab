{
  "cells": [
    {
      "cell_type": "markdown",
      "metadata": {
        "id": "view-in-github",
        "colab_type": "text"
      },
      "source": [
        "<a href=\"https://colab.research.google.com/github/etherealxx/sd-webui-debug-colab/blob/main/add-batchlinks-importable.ipynb\" target=\"_parent\"><img src=\"https://colab.research.google.com/assets/colab-badge.svg\" alt=\"Open In Colab\"/></a>"
      ]
    },
    {
      "cell_type": "code",
      "source": [
        "from IPython.display import clear_output\n",
        "import sys, importlib\n",
        "\n",
        "!apt-get -y install -qq aria2\n",
        "!git clone -b importable https://github.com/etherealxx/batchlinks-webui /content/batchlinks-webui\n",
        "clear_output(wait=True)\n",
        "\n",
        "sys.path.append('/content/batchlinks-webui/scripts')\n",
        "!sed -i 's/importable = False/importable = True/g' /content/batchlinks-webui/scripts/batchlinks_downloader.py\n",
        "try:\n",
        "  import batchlinks_downloader as bclinks\n",
        "except ModuleNotFoundError:\n",
        "  bclinks = importlib.reload(batchlinks_downloader)\n",
        "\n",
        "model_url = \"https://pastebin.com/WU9knurb\"  #@param {type:\"string\"}\n",
        "bclinks.script_path = '/content/volatile-concentration-localux'\n",
        "bclinks.syncpath()\n",
        "bclinks.run(model_url, 'aria2')\n",
        "# _ = sys.modules.pop('bclinks')"
      ],
      "metadata": {
        "id": "iRi1nYxB9d_t"
      },
      "execution_count": null,
      "outputs": []
    },
    {
      "cell_type": "code",
      "source": [
        "import sys\n",
        "sys.modules.pop('batchlinks_downloader')"
      ],
      "metadata": {
        "id": "bDzEU52i9wns"
      },
      "execution_count": null,
      "outputs": []
    },
    {
      "cell_type": "code",
      "source": [
        "print(dir(bclinks))"
      ],
      "metadata": {
        "id": "wnxLgWssELL8"
      },
      "execution_count": null,
      "outputs": []
    },
    {
      "cell_type": "code",
      "source": [
        "!rm -rf /content/volatile-concentration-localux"
      ],
      "metadata": {
        "id": "n2tfDDMeiE74"
      },
      "execution_count": null,
      "outputs": []
    },
    {
      "cell_type": "code",
      "source": [
        "!mega-get"
      ],
      "metadata": {
        "id": "1SyrlEF-S0uR"
      },
      "execution_count": null,
      "outputs": []
    },
    {
      "cell_type": "code",
      "source": [
        "!pkill -f \"mega-get\""
      ],
      "metadata": {
        "id": "h3aVtUjgS_pD"
      },
      "execution_count": null,
      "outputs": []
    },
    {
      "cell_type": "code",
      "source": [
        "import os, shutil\n",
        "\n",
        "folder_path = '/content'\n",
        "for folder_name in os.listdir(folder_path):\n",
        "    if folder_name.startswith('stable-diffusion') and os.path.isdir(os.path.join(folder_path, folder_name)):\n",
        "        shutil.rmtree(os.path.join(folder_path, folder_name))"
      ],
      "metadata": {
        "id": "4tjMi2r-XgVh"
      },
      "execution_count": null,
      "outputs": []
    }
  ],
  "metadata": {
    "colab": {
      "private_outputs": true,
      "provenance": [],
      "include_colab_link": true
    },
    "gpuClass": "standard",
    "kernelspec": {
      "display_name": "Python 3",
      "name": "python3"
    },
    "language_info": {
      "name": "python"
    }
  },
  "nbformat": 4,
  "nbformat_minor": 0
}