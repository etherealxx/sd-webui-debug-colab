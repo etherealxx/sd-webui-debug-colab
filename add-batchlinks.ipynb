{
  "cells": [
    {
      "cell_type": "markdown",
      "metadata": {
        "id": "view-in-github",
        "colab_type": "text"
      },
      "source": [
        "<a href=\"https://colab.research.google.com/github/etherealxx/sd-webui-debug-colab/blob/main/add-batchlinks.ipynb\" target=\"_parent\"><img src=\"https://colab.research.google.com/assets/colab-badge.svg\" alt=\"Open In Colab\"/></a>"
      ]
    },
    {
      "cell_type": "code",
      "source": [
        "# pretend that google drive is mounted for this test\n",
        "import os\n",
        "os.makedirs('/content/drive/MyDrive/stable-diffusion-webui-colab/stable-diffusion-webui/models/Stable-diffusion', exist_ok=True)"
      ],
      "metadata": {
        "id": "F0YDSR0HEnXb"
      },
      "execution_count": null,
      "outputs": []
    },
    {
      "cell_type": "code",
      "execution_count": null,
      "metadata": {
        "id": "SaAJk33ppFw1"
      },
      "outputs": [],
      "source": [
        "# from google.colab import drive\n",
        "# drive.mount('/content/drive')\n",
        "from IPython.display import clear_output\n",
        "import sys\n",
        "\n",
        "!apt-get -y install -qq aria2\n",
        "!git clone -b modular https://github.com/etherealxx/batchlinks-webui /content/batchlinks-webui\n",
        "clear_output(wait=True)\n",
        "\n",
        "sys.path.append('/content/batchlinks-webui/scripts')\n",
        "import batchlinks\n",
        "\n",
        "model_path = '/content/drive/MyDrive/stable-diffusion-webui-colab/stable-diffusion-webui/models/Stable-diffusion'\n",
        "model_url = \"https://huggingface.co/ckpt/anything-v4.5-vae-swapped/resolve/main/anything-v4.5-vae-swapped.safetensors\" #@param {type:\"string\"}\n",
        "# model_name = \"anything-v4.5-vae-swapped.safetensors\" #@param {type:\"string\"} #not needed lol\n",
        "# model_url = f\"\\\"{model_url}\\\"\"\n",
        "# !aria2c --console-log-level=error -c -x 16 -s 16 -k 1M {model_url} -d /content/drive/MyDrive/stable-diffusion-webui-colab/stable-diffusion-webui/models/Stable-diffusion -o {model_name}\n",
        "batchlinks.modelpath = model_path\n",
        "result = batchlinks.run(model_url, 'aria2', 'safetensors', True, True)\n",
        "print(result[0])"
      ]
    }
  ],
  "metadata": {
    "colab": {
      "private_outputs": true,
      "provenance": [],
      "include_colab_link": true
    },
    "gpuClass": "standard",
    "kernelspec": {
      "display_name": "Python 3",
      "name": "python3"
    },
    "language_info": {
      "name": "python"
    }
  },
  "nbformat": 4,
  "nbformat_minor": 0
}