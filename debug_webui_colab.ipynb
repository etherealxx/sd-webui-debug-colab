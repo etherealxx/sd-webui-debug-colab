{
  "cells": [
    {
      "cell_type": "markdown",
      "metadata": {
        "id": "view-in-github",
        "colab_type": "text"
      },
      "source": [
        "<a href=\"https://colab.research.google.com/github/etherealxx/sd-webui-debug-colab/blob/main/debug_webui_colab.ipynb\" target=\"_parent\"><img src=\"https://colab.research.google.com/assets/colab-badge.svg\" alt=\"Open In Colab\"/></a>"
      ]
    },
    {
      "cell_type": "code",
      "source": [
        "!rm -rf /content/stable-diffusion-webui/extensions/batchlinks-webui"
      ],
      "metadata": {
        "id": "lQe5nu7NklCW"
      },
      "execution_count": null,
      "outputs": []
    },
    {
      "cell_type": "code",
      "source": [
        "!git clone -b v2.0 https://github.com/camenduru/stable-diffusion-webui /content/stable-diffusion-webui\n",
        "!git clone https://github.com/etherealxx/batchlinks-webui /content/stable-diffusion-webui/extensions/batchlinks-webui"
      ],
      "metadata": {
        "id": "JemqXhRgkiSv"
      },
      "execution_count": null,
      "outputs": []
    },
    {
      "cell_type": "code",
      "execution_count": null,
      "metadata": {
        "id": "SaAJk33ppFw1"
      },
      "outputs": [],
      "source": [
        "import os\n",
        "from google.colab.output import eval_js\n",
        "os.environ['colab_url'] = eval_js(\"google.colab.kernel.proxyPort(7860, {'cache': false})\")\n",
        "\n",
        "if not os.path.exists('/content/firstlaunch'):\n",
        "  !apt -y update -qq\n",
        "  !pip install -q  torch==1.13.1+cu116 torchvision==0.14.1+cu116 torchaudio==0.13.1 --extra-index-url https://download.pytorch.org/whl/cu116 -U\n",
        "  !pip install -q --pre xformers==0.0.17.dev476 -U\n",
        "  !pip install -q --pre triton\n",
        "  !wget http://launchpadlibrarian.net/367274644/libgoogle-perftools-dev_2.5-2.2ubuntu3_amd64.deb\n",
        "  !wget https://launchpad.net/ubuntu/+source/google-perftools/2.5-2.2ubuntu3/+build/14795286/+files/google-perftools_2.5-2.2ubuntu3_all.deb\n",
        "  !wget https://launchpad.net/ubuntu/+source/google-perftools/2.5-2.2ubuntu3/+build/14795286/+files/libtcmalloc-minimal4_2.5-2.2ubuntu3_amd64.deb\n",
        "  !wget https://launchpad.net/ubuntu/+source/google-perftools/2.5-2.2ubuntu3/+build/14795286/+files/libgoogle-perftools4_2.5-2.2ubuntu3_amd64.deb\n",
        "  !apt install -qq libunwind8-dev\n",
        "  !dpkg -i *.deb\n",
        "  %env LD_PRELOAD=libtcmalloc.so\n",
        "  !rm *.deb\n",
        "  !apt -y install -qq aria2\n",
        "  !pip install -q --pre xformers\n",
        "  !pip install -q --pre triton\n",
        "  !touch /content/firstlaunch\n",
        "\n",
        "!git clone -b v2.0 https://github.com/camenduru/stable-diffusion-webui /content/stable-diffusion-webui\n",
        "!wget https://raw.githubusercontent.com/camenduru/stable-diffusion-webui-scripts/main/run_n_times.py -O /content/stable-diffusion-webui/scripts/run_n_times.py\n",
        "!git clone https://github.com/AlUlkesh/stable-diffusion-webui-images-browser /content/stable-diffusion-webui/extensions/stable-diffusion-webui-images-browser\n",
        "!git clone https://github.com/camenduru/stable-diffusion-webui-huggingface /content/stable-diffusion-webui/extensions/stable-diffusion-webui-huggingface\n",
        "!git clone -b v2.0 https://github.com/camenduru/sd-civitai-browser /content/stable-diffusion-webui/extensions/sd-civitai-browser\n",
        "!git clone https://github.com/kohya-ss/sd-webui-additional-networks /content/stable-diffusion-webui/extensions/sd-webui-additional-networks\n",
        "!git clone https://github.com/camenduru/sd-webui-tunnels /content/stable-diffusion-webui/extensions/sd-webui-tunnels\n",
        "!git clone https://github.com/etherealxx/batchlinks-webui /content/stable-diffusion-webui/extensions/batchlinks-webui\n",
        "!git clone https://github.com/KohakuBlueleaf/a1111-sd-webui-locon /content/stable-diffusion-webui/extensions/a1111-sd-webui-locon\n",
        "%cd /content/stable-diffusion-webui\n",
        "!git reset --hard\n",
        "\n",
        "!aria2c --console-log-level=error -c -x 16 -s 16 -k 1M https://huggingface.co/ckpt/sd14/resolve/main/sd-v1-4.ckpt -d /content/stable-diffusion-webui/models/Stable-diffusion -o sd-v1-4.ckpt\n",
        "\n",
        "!sed -i -e '''/    prepare_environment()/a\\    os.system\\(f\\\"\"\"sed -i -e ''\\\"s/dict()))/dict())).cuda()/g\\\"'' /content/stable-diffusion-webui/repositories/stable-diffusion-stability-ai/ldm/util.py\"\"\")''' /content/stable-diffusion-webui/launch.py\n",
        "!sed -i -e 's/fastapi==0.90.1/fastapi==0.89.1/g' /content/stable-diffusion-webui/requirements_versions.txt\n",
        "!sed -i 's/\"quicksettings\": OptionInfo(\"sd_model_checkpoint\", \"Quicksettings list\"),/\"quicksettings\": OptionInfo(\"sd_model_checkpoint,sd_vae\", \"Quicksettings list\"),/g' /content/stable-diffusion-webui/modules/shared.py\n",
        "# debugon\n",
        "!sed -i 's/globaldebug = False #set this to true to activate every debug features/globaldebug = True #set this to true to activate every debug features/g' /content/stable-diffusion-webui/extensions/batchlinks-webui/scripts/batchlinks-downloader.py\n",
        "# debugoff \n",
        "# !sed -i 's/globaldebug = True #set this to true to activate every debug features/globaldebug = False #set this to true to activate every debug features/g' /content/stable-diffusion-webui/extensions/batchlinks-webui/scripts/batchlinks-downloader.py\n",
        "\n",
        "!python launch.py --listen --xformers --enable-insecure-extension-access --theme dark --gradio-queue --multiple --lowram --no-half --use-cpu all --skip-torch-cuda-test --ui-debug-mode #--ckpt-dir /content/sample_data"
      ]
    }
  ],
  "metadata": {
    "colab": {
      "private_outputs": true,
      "provenance": [],
      "include_colab_link": true
    },
    "gpuClass": "standard",
    "kernelspec": {
      "display_name": "Python 3",
      "name": "python3"
    },
    "language_info": {
      "name": "python"
    }
  },
  "nbformat": 4,
  "nbformat_minor": 0
}